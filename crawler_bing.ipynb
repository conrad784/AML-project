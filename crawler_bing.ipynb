{
 "cells": [
  {
   "cell_type": "code",
   "execution_count": null,
   "metadata": {},
   "outputs": [],
   "source": [
    "import requests\n",
    "from API_KEY import BING_KEY\n",
    "import shutil\n",
    "import os\n",
    "import matplotlib.pyplot as plt\n",
    "import skimage.io\n",
    "import numpy as np\n",
    "from tqdm.autonotebook import tqdm"
   ]
  },
  {
   "cell_type": "code",
   "execution_count": null,
   "metadata": {},
   "outputs": [],
   "source": [
    "STOREFOLDER = \"data/bingcrawl\""
   ]
  },
  {
   "cell_type": "code",
   "execution_count": null,
   "metadata": {},
   "outputs": [],
   "source": [
    "def create_dir_if_not_exist(directory):\n",
    "    import os, errno\n",
    "    try:\n",
    "        os.makedirs(directory)\n",
    "    except OSError as e:\n",
    "        if e.errno != errno.EEXIST:\n",
    "            raise"
   ]
  },
  {
   "cell_type": "code",
   "execution_count": null,
   "metadata": {},
   "outputs": [],
   "source": [
    "IMG_SHAPE = \"512,512\"\n",
    "ZOOM_LEVELS = [ 13, 15, 18, 20]\n",
    "MAP_TYPE = [\"Aerial\", \"Road\"]\n",
    "GERMANY = {'north': 53.385433, 'east': 14.394068,\n",
    "           'west': 6.373989, 'south': 47.439950}"
   ]
  },
  {
   "cell_type": "markdown",
   "metadata": {},
   "source": [
    "# test functions"
   ]
  },
  {
   "cell_type": "code",
   "execution_count": null,
   "metadata": {},
   "outputs": [],
   "source": [
    "longitude = 49.428124\n",
    "latitude = 8.643959846153846\n",
    "maptype = \"Road\" \n",
    "#maptype = \"Aerial\""
   ]
  },
  {
   "cell_type": "code",
   "execution_count": null,
   "metadata": {},
   "outputs": [],
   "source": [
    "#URL = f\"https://dev.virtualearth.net/REST/v1/Imagery/Map/{ maptype }/Redmond Washington/15?mapSize={ IMG_SHAPE }&key={ BING_KEY }&highlightEntity=1&dpi=Large&fmt=png&style={ STYLE }\""
   ]
  },
  {
   "cell_type": "code",
   "execution_count": null,
   "metadata": {},
   "outputs": [],
   "source": [
    "STYLE = 'structure|visible:true;fillColor:FF0000_road|labelVisible:false'"
   ]
  },
  {
   "cell_type": "code",
   "execution_count": null,
   "metadata": {},
   "outputs": [],
   "source": [
    "# documentation: https://msdn.microsoft.com/en-us/library/ff701724.aspx\n",
    "# zoomLevel ( 0 ... 21 )\n",
    "\n",
    "URL = f\"https://dev.virtualearth.net/REST/v1/Imagery/Map/{ maptype }/{ longitude },{ latitude }/15?mapSize={ IMG_SHAPE }&key={ BING_KEY }&highlightEntity=1&dpi=Large&fmt=jpeg&style={ STYLE }\""
   ]
  },
  {
   "cell_type": "code",
   "execution_count": null,
   "metadata": {},
   "outputs": [],
   "source": [
    "# testing basic functions of url\n",
    "res = requests.get(URL, stream=True)\n",
    "with open(\"test.jpg\", \"wb\") as f:\n",
    "    res.raw.decode_content = True\n",
    "    shutil.copyfileobj(res.raw, f)\n",
    "img = skimage.io.imread(\"test.jpg\")\n",
    "plt.imshow(img)"
   ]
  },
  {
   "cell_type": "code",
   "execution_count": null,
   "metadata": {},
   "outputs": [],
   "source": [
    "FELD_LONG = 49.422879\n",
    "FELD_LAT = 8.675183"
   ]
  },
  {
   "cell_type": "code",
   "execution_count": null,
   "metadata": {},
   "outputs": [],
   "source": [
    "def store_map(long, lat, maptype = \"Aerial\", zoom = 15, show=False):\n",
    "    style = \"road|labelVisible:false_area|labelVisible:false\"\n",
    "    url = f\"https://dev.virtualearth.net/REST/v1/Imagery/Map/{ maptype }/{ long },{ lat }/{ zoom }?mapSize={ IMG_SHAPE }&key={ BING_KEY }&highlightEntity=0&dpi=Large&fmt=jpeg&style={ style }\"\n",
    "    try:\n",
    "        res = requests.get(url, stream=True)\n",
    "    except ConnectionError:\n",
    "        print(\"[WARNING] ran into rate-limit\")\n",
    "        import time\n",
    "        time.sleep(1)\n",
    "        try:\n",
    "            res = requests.get(url, stream=True)\n",
    "        except:\n",
    "            return -1\n",
    "        \n",
    "        \n",
    "    dir_nm = f\"{ STOREFOLDER }/{ zoom }/{ maptype }\"\n",
    "    fn = f\"{ dir_nm }/img_{ long }_{ lat }.jpeg\"\n",
    "    create_dir_if_not_exist(dir_nm)\n",
    "    \n",
    "    with open(fn, \"wb\") as f:\n",
    "        res.raw.decode_content = True\n",
    "        shutil.copyfileobj(res.raw, f)\n",
    "    if show:\n",
    "        img = skimage.io.imread(fn)\n",
    "        plt.imshow(img)"
   ]
  },
  {
   "cell_type": "code",
   "execution_count": null,
   "metadata": {},
   "outputs": [],
   "source": [
    "store_map(FELD_LONG, FELD_LAT)"
   ]
  },
  {
   "cell_type": "code",
   "execution_count": null,
   "metadata": {},
   "outputs": [],
   "source": [
    "# create grid of HD images\n",
    "# this could be a cool calculation depending on zoom level + overlapping percentage,\n",
    "# but lets first use a count of wanted images as stupid heuristic\n",
    "# Heidelberg:\n",
    "WEST_NORTH = ( 49.428124, 8.630286 )\n",
    "EAST_SOUTH = ( 49.405175, 8.719166 )\n",
    "\n",
    "# Stuttgart:\n",
    "WEST_NORTH = ( 48.809443, 9.130144 )\n",
    "EAST_SOUTH = ( 48.751753, 9.260488 )\n",
    "\n",
    "\n",
    "len_long = abs(WEST_NORTH[0] - EAST_SOUTH[0])\n",
    "len_lat = abs(WEST_NORTH[1] - EAST_SOUTH[1])\n",
    "print(\"LEN_LONG:\", len_long, \"LEN_LAT:\", len_lat)\n",
    "ratio_long = len_long/len_lat\n",
    "print(\"Ratio_long:\", ratio_long)\n",
    "\n",
    "count = 1000\n",
    "\n",
    "long_space = np.linspace(WEST_NORTH[0], EAST_SOUTH[0], int(np.sqrt(count))) #np.floor(ratio_long*count).astype(int))\n",
    "lat_space = np.linspace(WEST_NORTH[1], EAST_SOUTH[1], int(np.sqrt(count))) #np.floor((1-ratio_long) * count).astype(int))\n",
    "\n",
    "print(long_space, lat_space)"
   ]
  },
  {
   "cell_type": "code",
   "execution_count": null,
   "metadata": {},
   "outputs": [],
   "source": [
    "for zoom in tqdm([15], desc=\"levels\"):\n",
    "    for maptype in tqdm(MAP_TYPE, desc=\"maptype\", leave=False):\n",
    "        for long in tqdm(long_space, desc=\"longitude\", leave=False):\n",
    "            for lat in tqdm(lat_space, desc=\"latitude\", leave=False):\n",
    "                store_map(long, lat, maptype=maptype, zoom=zoom)"
   ]
  },
  {
   "cell_type": "code",
   "execution_count": null,
   "metadata": {},
   "outputs": [],
   "source": []
  }
 ],
 "metadata": {
  "kernelspec": {
   "display_name": "Python 3",
   "language": "python",
   "name": "python3"
  },
  "language_info": {
   "codemirror_mode": {
    "name": "ipython",
    "version": 3
   },
   "file_extension": ".py",
   "mimetype": "text/x-python",
   "name": "python",
   "nbconvert_exporter": "python",
   "pygments_lexer": "ipython3",
   "version": "3.7.0"
  }
 },
 "nbformat": 4,
 "nbformat_minor": 2
}
